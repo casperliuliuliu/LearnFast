{
 "cells": [
  {
   "cell_type": "code",
   "execution_count": 3,
   "metadata": {},
   "outputs": [],
   "source": [
    "import pandas as pd"
   ]
  },
  {
   "cell_type": "code",
   "execution_count": 4,
   "metadata": {},
   "outputs": [
    {
     "name": "stdout",
     "output_type": "stream",
     "text": [
      "    vocabulary    chinese\n",
      "0      acerbic    苦澀的；刻薄的\n",
      "1   exacerbate      加重；惡化\n",
      "2         acid         酸的\n",
      "3        acrid    辛辣的；刻薄的\n",
      "4  acrimonious  尖酸刻薄的；嚴厲的\n"
     ]
    }
   ],
   "source": [
    "df = pd.read_excel('mason2000.xlsx')\n",
    "print(df.head())"
   ]
  },
  {
   "cell_type": "code",
   "execution_count": 5,
   "metadata": {},
   "outputs": [],
   "source": [
    "import random\n",
    "\n",
    "def pick_random(number_list: list=[], num: int=5)->list:\n",
    "    # Check if the list has at least 5 unique elements\n",
    "    if len(number_list) >= num:\n",
    "        # Pick 5 random non-repeating numbers from the list\n",
    "        return random.sample(number_list, num)\n",
    "    else:\n",
    "        print(\"The list doesn't have enough unique elements.\")\n",
    "        return []\n",
    "\n"
   ]
  },
  {
   "cell_type": "code",
   "execution_count": 6,
   "metadata": {},
   "outputs": [],
   "source": [
    "number_list = list(range(1,df.shape[0]))\n",
    "\n",
    "def vocab(number_list, df):\n",
    "    return df.iloc[number_list].reset_index(drop=1)\n"
   ]
  },
  {
   "cell_type": "code",
   "execution_count": 7,
   "metadata": {},
   "outputs": [
    {
     "name": "stdout",
     "output_type": "stream",
     "text": [
      "[46, 59, 35, 22, 43]\n",
      "和藹的；親切的\n",
      "蹣跚而行\n",
      "聯合；合併\n",
      "緊急的；要求多的\n",
      "替代的；輪流的；交替的\n",
      "0/5\n",
      "    vocabulary    chinese\n",
      "0      acerbic    苦澀的；刻薄的\n",
      "1   exacerbate      加重；惡化\n",
      "2         acid         酸的\n",
      "3        acrid    辛辣的；刻薄的\n",
      "4  acrimonious  尖酸刻薄的；嚴厲的\n"
     ]
    }
   ],
   "source": [
    "def spelling_test(number_list):\n",
    "    test_list = pick_random(number_list)\n",
    "    # print(test_list)\n",
    "    test_df = vocab(test_list, df)\n",
    "    score = 0\n",
    "    wrong_ans = []\n",
    "    for ii in range(test_df.shape[0]):\n",
    "        print(test_df['chinese'][ii])\n",
    "        ans = input('input:')\n",
    "        if ans == test_df['vocabulary'][ii]:\n",
    "            score+=1\n",
    "        else:\n",
    "            wrong_ans.append(ii)\n",
    "        # print(test_df.iloc[ii])\n",
    "    print(f\"{score}/{test_df.shape[0]}\")\n",
    "    print(df.iloc[wrong_ans])\n",
    "spelling_test(number_list)"
   ]
  },
  {
   "cell_type": "code",
   "execution_count": 14,
   "metadata": {},
   "outputs": [
    {
     "name": "stdout",
     "output_type": "stream",
     "text": [
      "[1, 2, 3, 4, 5, 6, 7, 8, 9, 10, 11, 12, 13, 14, 15, 16, 17, 18, 19, 20, 21, 22, 23, 24, 25, 26, 27, 28, 29, 30, 31, 32, 33, 34, 35, 36, 37, 38, 39, 40, 41, 42, 43, 44, 45, 46, 47, 48, 49, 50, 51, 52, 53, 54, 55, 56, 57, 58, 59, 60, 61, 62, 63, 64, 65, 66, 67, 68, 69]\n"
     ]
    }
   ],
   "source": [
    "print(number_list)"
   ]
  },
  {
   "cell_type": "code",
   "execution_count": 32,
   "metadata": {},
   "outputs": [
    {
     "name": "stdout",
     "output_type": "stream",
     "text": [
      "[10, 57, 19, 64, 28]\n",
      "  vocabulary  chinese\n",
      "0      enact       制定\n",
      "1     ramble    閒逛；漫步\n",
      "2      agile  靈敏的；靈活的\n",
      "3  rectangle      長方形\n",
      "4  pedagogic     教育學的\n",
      "\n",
      "[ enact ]\n",
      "0.疏離；疏遠\n",
      "1.制定\n",
      "2.緊急的；要求多的\n",
      "3.鎮痛劑；止痛的\n",
      "1 1\n",
      "\n",
      "[ ramble ]\n",
      "0.巡行於；勘查\n",
      "1.疏離；疏遠\n",
      "2.抵銷\n",
      "3.閒逛；漫步\n",
      "3 3\n",
      "\n",
      "[ agile ]\n",
      "0.厭氧的；厭氧微生物\n",
      "1.敏銳\n",
      "2.靈敏的；靈活的\n",
      "3.教育學的\n",
      "2 2\n",
      "\n",
      "[ rectangle ]\n",
      "0.極大的痛苦\n",
      "1.長方形\n",
      "2.激動的；不安的\n",
      "3.靈敏的；靈活的\n",
      "0 1\n",
      "\n",
      "[ pedagogic ]\n",
      "0.酸的\n",
      "1.敏銳\n",
      "2.讚揚；歌頌\n",
      "3.教育學的\n",
      "1 3\n",
      "YOUR SCORE: [ 3/5 ]\n"
     ]
    }
   ],
   "source": [
    "# def selection_test():\n",
    "test_list = pick_random(number_list)\n",
    "print(test_list)\n",
    "test_df = vocab(test_list, df)\n",
    "score = 0\n",
    "ans = []\n",
    "ans_list = []\n",
    "print(test_df)\n",
    "for ii in range(test_df.shape[0]):\n",
    "    print(f\"\\n[ {test_df['vocabulary'][ii]} ]\")\n",
    "    without_list = list(range(1,test_list[ii])) + list(range(test_list[ii]+1,df.shape[0]))\n",
    "    random_list = pick_random(without_list,3)\n",
    "    random_list.append(test_list[ii])\n",
    "    random.shuffle(random_list)\n",
    "    ans_list.append(random_list.index(test_list[ii]))\n",
    "    # print(random_list)\n",
    "    for jj in range(4):\n",
    "\n",
    "        word = df['chinese'][random_list[jj]]\n",
    "        print(f\"{jj}.{word}\")\n",
    "    ans.append(input(\"輸入選項：\"))\n",
    "    if int(ans[ii]) == ans_list[ii]:\n",
    "        score += 1\n",
    "    print(ans[ii], ans_list[ii])\n",
    "\n",
    "print(f\"YOUR SCORE: [ {score}/{test_df.shape[0]} ]\")\n",
    "\n",
    "    \n",
    "\n",
    "    "
   ]
  },
  {
   "cell_type": "code",
   "execution_count": null,
   "metadata": {},
   "outputs": [],
   "source": []
  },
  {
   "cell_type": "code",
   "execution_count": 26,
   "metadata": {},
   "outputs": [
    {
     "name": "stdout",
     "output_type": "stream",
     "text": [
      "The index of 30 is 2\n"
     ]
    }
   ],
   "source": [
    "# Sample list\n",
    "my_list = [10, 20, 30, 40, 50]\n",
    "\n",
    "# Value to find\n",
    "value_to_find = 30\n",
    "\n",
    "# Find the index of the value in the list\n",
    "index = my_list.index(value_to_find)\n",
    "\n",
    "print(f\"The index of {value_to_find} is {index}\")\n"
   ]
  },
  {
   "cell_type": "code",
   "execution_count": 2,
   "metadata": {},
   "outputs": [
    {
     "ename": "ModuleNotFoundError",
     "evalue": "No module named 'google.generativeai'",
     "output_type": "error",
     "traceback": [
      "\u001b[1;31m---------------------------------------------------------------------------\u001b[0m",
      "\u001b[1;31mModuleNotFoundError\u001b[0m                       Traceback (most recent call last)",
      "Cell \u001b[1;32mIn[2], line 1\u001b[0m\n\u001b[1;32m----> 1\u001b[0m \u001b[38;5;28;01mimport\u001b[39;00m \u001b[38;5;21;01mgoogle\u001b[39;00m\u001b[38;5;21;01m.\u001b[39;00m\u001b[38;5;21;01mgenerativeai\u001b[39;00m \u001b[38;5;28;01mas\u001b[39;00m \u001b[38;5;21;01mpalm\u001b[39;00m\n\u001b[0;32m      2\u001b[0m \u001b[38;5;28;01mimport\u001b[39;00m \u001b[38;5;21;01mos\u001b[39;00m\n\u001b[0;32m      3\u001b[0m \u001b[38;5;28;01mimport\u001b[39;00m \u001b[38;5;21;01msys\u001b[39;00m\n",
      "\u001b[1;31mModuleNotFoundError\u001b[0m: No module named 'google.generativeai'"
     ]
    }
   ],
   "source": [
    "import google.generativeai as palm\n",
    "import os\n",
    "import sys\n",
    "sys.path.append('/Users/liushiwen/Desktop/github')\n",
    "\n",
    "# Now you can import the file\n",
    "# import your_module\n",
    "from config import get_config \n",
    "# print(get_config())\n",
    "config = get_config()\n",
    "palm.configure(api_key=config[\"PALM_API_KEY\"])\n"
   ]
  },
  {
   "cell_type": "code",
   "execution_count": 1,
   "metadata": {},
   "outputs": [
    {
     "ename": "NameError",
     "evalue": "name 'palm' is not defined",
     "output_type": "error",
     "traceback": [
      "\u001b[1;31m---------------------------------------------------------------------------\u001b[0m",
      "\u001b[1;31mNameError\u001b[0m                                 Traceback (most recent call last)",
      "Cell \u001b[1;32mIn[1], line 23\u001b[0m\n\u001b[0;32m     21\u001b[0m Vocab \u001b[38;5;241m=\u001b[39m \u001b[38;5;124m'\u001b[39m\u001b[38;5;124maboreal\u001b[39m\u001b[38;5;124m'\u001b[39m\n\u001b[0;32m     22\u001b[0m messages\u001b[38;5;241m.\u001b[39mappend(\u001b[38;5;124mf\u001b[39m\u001b[38;5;124m\"\u001b[39m\u001b[38;5;124mWrite a sentence contains \u001b[39m\u001b[38;5;130;01m\\\"\u001b[39;00m\u001b[38;5;132;01m{\u001b[39;00mVocab\u001b[38;5;132;01m}\u001b[39;00m\u001b[38;5;130;01m\\\"\u001b[39;00m\u001b[38;5;124m\"\u001b[39m)\n\u001b[1;32m---> 23\u001b[0m response \u001b[38;5;241m=\u001b[39m \u001b[43mpalm\u001b[49m\u001b[38;5;241m.\u001b[39mchat(\n\u001b[0;32m     24\u001b[0m \u001b[38;5;241m*\u001b[39m\u001b[38;5;241m*\u001b[39mdefaults,\n\u001b[0;32m     25\u001b[0m context\u001b[38;5;241m=\u001b[39mcontext,\n\u001b[0;32m     26\u001b[0m examples\u001b[38;5;241m=\u001b[39mexamples,\n\u001b[0;32m     27\u001b[0m messages\u001b[38;5;241m=\u001b[39mmessages\n\u001b[0;32m     28\u001b[0m )\n\u001b[0;32m     29\u001b[0m \u001b[38;5;28mprint\u001b[39m(response\u001b[38;5;241m.\u001b[39mlast) \u001b[38;5;66;03m# Response of the AI to your most recent request\u001b[39;00m\n",
      "\u001b[1;31mNameError\u001b[0m: name 'palm' is not defined"
     ]
    }
   ],
   "source": [
    "\n",
    "# defaults = {\n",
    "# 'model': 'models/chat-bison-001',\n",
    "# 'temperature': 0.25,\n",
    "# 'candidate_count': 1,\n",
    "# 'top_k': 40,\n",
    "# 'top_p': 0.95,\n",
    "# }\n",
    "defaults = {\n",
    "'model': 'models/chat-bison-001',\n",
    "'temperature': 1,\n",
    "'candidate_count': 2,\n",
    "'top_k': 40,\n",
    "'top_p': 0.95,\n",
    "}\n",
    "context = \"\"\n",
    "examples = []\n",
    "messages = [\n",
    "# \"what is earth\",\n",
    "# \"Earth is the third planet from the Sun and the only astronomical object known to harbor life. According to radiometric dating and other evidence, Earth formed about 4.54 billion years ago, not long after the Sun. Earth is the densest planet in the Solar System and the largest of the four terrestrial planets. It is also the only planet known to have an atmosphere composed primarily of oxygen. The atmosphere protects life on Earth by absorbing ultraviolet solar radiation, warming the surface through greenhouse effect, and reducing temperature extremes between day and night.\\n\\nThe surface of Earth is mostly covered by water, which is why it is often called the \\\"blue planet\\\". The continents and other landmasses are located on the Earth's crust, which is divided into several tectonic plates that move slowly over time. The Earth's interior is composed of a solid inner core, a liquid outer core, and a mantle. The inner core is made of solid iron and nickel, while the outer core is made of liquid iron and nickel. The mantle is made of silicate rocks.\\n\\nEarth's climate is affected by the Sun, the atmosphere, and the oceans. The Sun provides Earth with energy, which drives the Earth's climate system. The atmosphere traps heat from the Sun, which warms the Earth's surface. The oceans absorb and release heat, which helps to regulate the Earth's climate.\\n\\nEarth is home to a wide variety of life, including plants, animals, and microorganisms. Life on Earth is thought to have originated about 3.8 billion years ago. The evolution of life on Earth has led to the development of complex organisms, such as humans.\\n\\nEarth is a beautiful and complex planet. It is the only home we have, and it is important to take care of it.\"\n",
    "]\n",
    "Vocab = 'aboreal'\n",
    "messages.append(f\"Write a sentence contains \\\"{Vocab}\\\"\")\n",
    "response = palm.chat(\n",
    "**defaults,\n",
    "context=context,\n",
    "examples=examples,\n",
    "messages=messages\n",
    ")\n",
    "print(response.last) # Response of the AI to your most recent request"
   ]
  },
  {
   "cell_type": "code",
   "execution_count": 28,
   "metadata": {},
   "outputs": [
    {
     "name": "stdout",
     "output_type": "stream",
     "text": [
      "https://dictionary.cambridge.org/dictionary/english/bank\n",
      "Definition of 'bank': an organization where people and businesses can invest or borrow money , change it to foreign money , etc., or a building where these services are offered :\n"
     ]
    }
   ],
   "source": [
    "import requests\n",
    "from bs4 import BeautifulSoup\n",
    "\n",
    "def get_cambridge_definition(word):\n",
    "    base_url = \"https://dictionary.cambridge.org/dictionary/english/\"\n",
    "    url = f\"{base_url}{word}\"\n",
    "    print(url)\n",
    "    # Send an HTTP request to the website\n",
    "    # response = requests.get(url)\n",
    "    # response = requests.get(url, params={'param':'1'}, headers={'Connection':'close'})\n",
    "    headers = {'User-Agent': 'Mozilla/5.0 (Windows NT 10.0; Win64; x64) AppleWebKit/537.36 (KHTML, like Gecko) Chrome/58.0.3029.110 Safari/537.3'}\n",
    "    response = requests.get(url, headers=headers)\n",
    "\n",
    "    # Check if the request was successful (status code 200)\n",
    "    if response.status_code == 200:\n",
    "        # Parse the HTML content\n",
    "        soup = BeautifulSoup(response.content, 'html.parser')\n",
    "        # print(soup)\n",
    "        # Extract the definition from the HTML\n",
    "        definition = soup.find(\"div\", {\"class\": \"def ddef_d db\"})\n",
    "        # return soup\n",
    "        # Check if a definition was found\n",
    "        if definition:\n",
    "            # Join text within the div tag with spaces between words\n",
    "            definition = ' '.join(definition.stripped_strings)\n",
    "            return definition\n",
    "        else:\n",
    "            return f\"No definition found for {word}\"\n",
    "\n",
    "    else:\n",
    "        return f\"Failed to retrieve data. Status code: {response.status_code}\"\n",
    "\n",
    "# Example usage\n",
    "word_to_search = \"bank\"\n",
    "definition = get_cambridge_definition(word_to_search)\n",
    "print(f\"Definition of '{word_to_search}': {definition}\")\n",
    "\n",
    "def store_definition(word, definition, filename=\"vocabulary.txt\"):\n",
    "    with open(filename, 'a') as file:\n",
    "        file.write(f\"{word}: {definition}\\n\")\n",
    "\n",
    "def sort_and_save(filename=\"vocabulary.txt\"):\n",
    "    with open(filename, 'r') as file:\n",
    "        lines = file.readlines()\n",
    "\n",
    "    lines.sort()\n",
    "\n",
    "    with open(filename, 'w') as file:\n",
    "        file.writelines(lines)\n",
    "        \n",
    "store_definition(word_to_search, definition)\n",
    "\n",
    "# Sort and save the entries alphabetically\n",
    "sort_and_save()"
   ]
  },
  {
   "cell_type": "code",
   "execution_count": 1,
   "metadata": {},
   "outputs": [
    {
     "name": "stdout",
     "output_type": "stream",
     "text": [
      "Failed to fetch words\n"
     ]
    }
   ],
   "source": [
    "import requests\n",
    "\n",
    "def fetch_words(api_key, limit=1000):\n",
    "    url = f\"https://api.wordnik.com/v4/words.json/randomWords?limit={limit}&api_key={api_key}\"\n",
    "    response = requests.get(url)\n",
    "    if response.status_code == 200:\n",
    "        words = response.json()\n",
    "        return [word['word'] for word in words]\n",
    "    else:\n",
    "        print(\"Failed to fetch words\")\n",
    "        return []\n",
    "\n",
    "# Replace 'YOUR_API_KEY' with your actual Wordnik API key\n",
    "api_key = 'YOUR_API_KEY'\n",
    "word_list = fetch_words(api_key)\n",
    "\n",
    "for word in word_list:\n",
    "    print(word)\n"
   ]
  }
 ],
 "metadata": {
  "kernelspec": {
   "display_name": "Python 3 (ipykernel)",
   "language": "python",
   "name": "python3"
  },
  "language_info": {
   "codemirror_mode": {
    "name": "ipython",
    "version": 3
   },
   "file_extension": ".py",
   "mimetype": "text/x-python",
   "name": "python",
   "nbconvert_exporter": "python",
   "pygments_lexer": "ipython3",
   "version": "3.10.12"
  }
 },
 "nbformat": 4,
 "nbformat_minor": 4
}
